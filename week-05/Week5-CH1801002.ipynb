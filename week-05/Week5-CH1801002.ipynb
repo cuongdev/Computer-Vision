{
 "cells": [
  {
   "cell_type": "code",
   "execution_count": 4,
   "metadata": {
    "colab": {
     "base_uri": "https://localhost:8080/",
     "height": 55
    },
    "colab_type": "code",
    "id": "o8e4iM317pqx",
    "outputId": "c438f82a-cb40-4b68-cc2a-214c78aabf43"
   },
   "outputs": [
    {
     "name": "stderr",
     "output_type": "stream",
     "text": [
      "/usr/lib/python3.6/importlib/_bootstrap.py:219: RuntimeWarning: compiletime version 3.5 of module 'tensorflow.python.framework.fast_tensor_util' does not match runtime version 3.6\n",
      "  return f(*args, **kwds)\n"
     ]
    }
   ],
   "source": [
    "import cv2, os\n",
    "from mtcnn.mtcnn import MTCNN\n",
    "\n",
    "img_dir = 'faces'\n",
    "result_dir = 'result'\n",
    "detector = MTCNN()\n",
    "\n",
    "paths = os.listdir(img_dir) \n",
    "for path in paths:\n",
    "    image_path = os.path.join(img_dir, path)\n",
    "    image = cv2.imread(image_path)\n",
    "    result = detector.detect_faces(image)\n",
    "    \n",
    "    count = 0\n",
    "    for face in result:\n",
    "        count += 1 \n",
    "        bbox = face['box']\n",
    "        cropped_image = image[bbox[1]:bbox[1] + bbox[3], bbox[0]:bbox[0] + bbox[2]]\n",
    "        cv2.imwrite(os.path.join(result_dir, str(count) + '_' + path), cropped_image)"
   ]
  },
  {
   "cell_type": "code",
   "execution_count": null,
   "metadata": {},
   "outputs": [],
   "source": []
  }
 ],
 "metadata": {
  "colab": {
   "collapsed_sections": [],
   "name": "CV-W4.ipynb",
   "provenance": [],
   "version": "0.3.2"
  },
  "kernelspec": {
   "display_name": "Python 3",
   "language": "python",
   "name": "python3"
  },
  "language_info": {
   "codemirror_mode": {
    "name": "ipython",
    "version": 3
   },
   "file_extension": ".py",
   "mimetype": "text/x-python",
   "name": "python",
   "nbconvert_exporter": "python",
   "pygments_lexer": "ipython3",
   "version": "3.6.7"
  }
 },
 "nbformat": 4,
 "nbformat_minor": 1
}
